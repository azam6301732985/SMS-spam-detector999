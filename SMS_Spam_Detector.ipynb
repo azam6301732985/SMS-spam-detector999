{
  "nbformat": 4,
  "nbformat_minor": 0,
  "metadata": {
    "colab": {
      "name": "SMS-Spam-Detector.ipynb",
      "provenance": [],
      "collapsed_sections": [],
      "authorship_tag": "ABX9TyO4S+hgGmtEW3oT8iMnzK4A",
      "include_colab_link": true
    },
    "kernelspec": {
      "name": "python3",
      "display_name": "Python 3"
    },
    "language_info": {
      "name": "python"
    },
    "accelerator": "TPU"
  },
  "cells": [
    {
      "cell_type": "markdown",
      "metadata": {
        "id": "view-in-github",
        "colab_type": "text"
      },
      "source": [
        "<a href=\"https://colab.research.google.com/github/azam6301732985/SMS-spam-detector999/blob/main/SMS_Spam_Detector.ipynb\" target=\"_parent\"><img src=\"https://colab.research.google.com/assets/colab-badge.svg\" alt=\"Open In Colab\"/></a>"
      ]
    },
    {
      "cell_type": "markdown",
      "metadata": {
        "id": "liMPccKOB6r8"
      },
      "source": [
        "**SMS Spam Detection Using 7 Machine Learning Algorithms and Simple Bag of Words**\n",
        "*By :- Mohammad Abdul Azam*"
      ]
    },
    {
      "cell_type": "markdown",
      "metadata": {
        "id": "EqAn4GlcEe0w"
      },
      "source": [
        "**The following project will be divided into 4 steps, for clear understanding purpose**\n",
        "\n",
        "\n",
        "\n",
        "*  Step-1 : Exploratory Data Analysis(EDA),Data Cleaning and Pre-processing\n",
        "*  Step-2: Model Building\n",
        "*  Step-3: Model Evaluation metrics\n",
        "*  Step-4: Model Deployment\n",
        "\n",
        "\n",
        "\n"
      ]
    },
    {
      "cell_type": "markdown",
      "metadata": {
        "id": "i5X-YqJXEadO"
      },
      "source": [
        "The SMS Spam Collection is a set of SMS tagged messages that have been collected for SMS Spam research. It contains one set of SMS messages in English of 5,574 messages, tagged acording being ham (legitimate) or spam.\n",
        "\n",
        "Content The files contain one message per line. Each line is composed by two columns: v1 contains the label (ham or spam) and v2 contains the raw text.\n",
        "\n",
        "This corpus has been collected from free or free for research sources at the Internet:\n",
        "\n",
        "-> A collection of 425 SMS spam messages was manually extracted from the Grumbletext Web site. This is a UK forum in which cell phone users make public claims about SMS spam messages, most of them without reporting the very spam message received. The identification of the text of spam messages in the claims is a very hard and time-consuming task, and it involved carefully scanning hundreds of web pages. The Grumbletext Web site is: [Web Link]. -> A subset of 3,375 SMS randomly chosen ham messages of the NUS SMS Corpus (NSC), which is a dataset of about 10,000 legitimate messages collected for research at the Department of Computer Science at the National University of Singapore. The messages largely originate from Singaporeans and mostly from students attending the University. These messages were collected from volunteers who were made aware that their contributions were going to be made publicly available. The NUS SMS Corpus is avalaible at: [Web Link]. -> A list of 450 SMS ham messages collected from Caroline Tag's PhD Thesis available at [Web Link]. -> Finally, we have incorporated the SMS Spam Corpus v.0.1 Big. It has 1,002 SMS ham messages and 322 spam messages and it is public available at: [Web Link]. This corpus has been used in the following academic researches:\n",
        "\n",
        "Acknowledgements The original dataset can be found here. The creators would like to note that in case you find the dataset useful, please make a reference to previous paper and the web page: http://www.dt.fee.unicamp.br/~tiago/smsspamcollection/ in your papers, research, etc.\n",
        "\n",
        "We offer a comprehensive study of this corpus in the following paper. This work presents a number of statistics, studies and baseline results for several machine learning methods.\n",
        "\n",
        "Almeida, T.A., GÃ³mez Hidalgo, J.M., Yamakami, A. Contributions to the Study of SMS Spam Filtering: New Collection and Results. Proceedings of the 2011 ACM Symposium on Document Engineering (DOCENG'11), Mountain View, CA, USA, 2011.\n",
        "\n",
        "Inspiration Can you use this dataset to build a prediction model that will accurately classify which texts are spam?"
      ]
    },
    {
      "cell_type": "markdown",
      "metadata": {
        "id": "dl7s9ZdTCSAj"
      },
      "source": [
        "  # Step-1 : EDA(Exploratory Data Analysis),Data Cleaning and Pre-processing."
      ]
    },
    {
      "cell_type": "code",
      "metadata": {
        "id": "md6HH6bgBrlJ"
      },
      "source": [
        ""
      ],
      "execution_count": null,
      "outputs": []
    },
    {
      "cell_type": "code",
      "metadata": {
        "colab": {
          "resources": {
            "http://localhost:8080/nbextensions/google.colab/files.js": {
              "data": "Ly8gQ29weXJpZ2h0IDIwMTcgR29vZ2xlIExMQwovLwovLyBMaWNlbnNlZCB1bmRlciB0aGUgQXBhY2hlIExpY2Vuc2UsIFZlcnNpb24gMi4wICh0aGUgIkxpY2Vuc2UiKTsKLy8geW91IG1heSBub3QgdXNlIHRoaXMgZmlsZSBleGNlcHQgaW4gY29tcGxpYW5jZSB3aXRoIHRoZSBMaWNlbnNlLgovLyBZb3UgbWF5IG9idGFpbiBhIGNvcHkgb2YgdGhlIExpY2Vuc2UgYXQKLy8KLy8gICAgICBodHRwOi8vd3d3LmFwYWNoZS5vcmcvbGljZW5zZXMvTElDRU5TRS0yLjAKLy8KLy8gVW5sZXNzIHJlcXVpcmVkIGJ5IGFwcGxpY2FibGUgbGF3IG9yIGFncmVlZCB0byBpbiB3cml0aW5nLCBzb2Z0d2FyZQovLyBkaXN0cmlidXRlZCB1bmRlciB0aGUgTGljZW5zZSBpcyBkaXN0cmlidXRlZCBvbiBhbiAiQVMgSVMiIEJBU0lTLAovLyBXSVRIT1VUIFdBUlJBTlRJRVMgT1IgQ09ORElUSU9OUyBPRiBBTlkgS0lORCwgZWl0aGVyIGV4cHJlc3Mgb3IgaW1wbGllZC4KLy8gU2VlIHRoZSBMaWNlbnNlIGZvciB0aGUgc3BlY2lmaWMgbGFuZ3VhZ2UgZ292ZXJuaW5nIHBlcm1pc3Npb25zIGFuZAovLyBsaW1pdGF0aW9ucyB1bmRlciB0aGUgTGljZW5zZS4KCi8qKgogKiBAZmlsZW92ZXJ2aWV3IEhlbHBlcnMgZm9yIGdvb2dsZS5jb2xhYiBQeXRob24gbW9kdWxlLgogKi8KKGZ1bmN0aW9uKHNjb3BlKSB7CmZ1bmN0aW9uIHNwYW4odGV4dCwgc3R5bGVBdHRyaWJ1dGVzID0ge30pIHsKICBjb25zdCBlbGVtZW50ID0gZG9jdW1lbnQuY3JlYXRlRWxlbWVudCgnc3BhbicpOwogIGVsZW1lbnQudGV4dENvbnRlbnQgPSB0ZXh0OwogIGZvciAoY29uc3Qga2V5IG9mIE9iamVjdC5rZXlzKHN0eWxlQXR0cmlidXRlcykpIHsKICAgIGVsZW1lbnQuc3R5bGVba2V5XSA9IHN0eWxlQXR0cmlidXRlc1trZXldOwogIH0KICByZXR1cm4gZWxlbWVudDsKfQoKLy8gTWF4IG51bWJlciBvZiBieXRlcyB3aGljaCB3aWxsIGJlIHVwbG9hZGVkIGF0IGEgdGltZS4KY29uc3QgTUFYX1BBWUxPQURfU0laRSA9IDEwMCAqIDEwMjQ7CgpmdW5jdGlvbiBfdXBsb2FkRmlsZXMoaW5wdXRJZCwgb3V0cHV0SWQpIHsKICBjb25zdCBzdGVwcyA9IHVwbG9hZEZpbGVzU3RlcChpbnB1dElkLCBvdXRwdXRJZCk7CiAgY29uc3Qgb3V0cHV0RWxlbWVudCA9IGRvY3VtZW50LmdldEVsZW1lbnRCeUlkKG91dHB1dElkKTsKICAvLyBDYWNoZSBzdGVwcyBvbiB0aGUgb3V0cHV0RWxlbWVudCB0byBtYWtlIGl0IGF2YWlsYWJsZSBmb3IgdGhlIG5leHQgY2FsbAogIC8vIHRvIHVwbG9hZEZpbGVzQ29udGludWUgZnJvbSBQeXRob24uCiAgb3V0cHV0RWxlbWVudC5zdGVwcyA9IHN0ZXBzOwoKICByZXR1cm4gX3VwbG9hZEZpbGVzQ29udGludWUob3V0cHV0SWQpOwp9CgovLyBUaGlzIGlzIHJvdWdobHkgYW4gYXN5bmMgZ2VuZXJhdG9yIChub3Qgc3VwcG9ydGVkIGluIHRoZSBicm93c2VyIHlldCksCi8vIHdoZXJlIHRoZXJlIGFyZSBtdWx0aXBsZSBhc3luY2hyb25vdXMgc3RlcHMgYW5kIHRoZSBQeXRob24gc2lkZSBpcyBnb2luZwovLyB0byBwb2xsIGZvciBjb21wbGV0aW9uIG9mIGVhY2ggc3RlcC4KLy8gVGhpcyB1c2VzIGEgUHJvbWlzZSB0byBibG9jayB0aGUgcHl0aG9uIHNpZGUgb24gY29tcGxldGlvbiBvZiBlYWNoIHN0ZXAsCi8vIHRoZW4gcGFzc2VzIHRoZSByZXN1bHQgb2YgdGhlIHByZXZpb3VzIHN0ZXAgYXMgdGhlIGlucHV0IHRvIHRoZSBuZXh0IHN0ZXAuCmZ1bmN0aW9uIF91cGxvYWRGaWxlc0NvbnRpbnVlKG91dHB1dElkKSB7CiAgY29uc3Qgb3V0cHV0RWxlbWVudCA9IGRvY3VtZW50LmdldEVsZW1lbnRCeUlkKG91dHB1dElkKTsKICBjb25zdCBzdGVwcyA9IG91dHB1dEVsZW1lbnQuc3RlcHM7CgogIGNvbnN0IG5leHQgPSBzdGVwcy5uZXh0KG91dHB1dEVsZW1lbnQubGFzdFByb21pc2VWYWx1ZSk7CiAgcmV0dXJuIFByb21pc2UucmVzb2x2ZShuZXh0LnZhbHVlLnByb21pc2UpLnRoZW4oKHZhbHVlKSA9PiB7CiAgICAvLyBDYWNoZSB0aGUgbGFzdCBwcm9taXNlIHZhbHVlIHRvIG1ha2UgaXQgYXZhaWxhYmxlIHRvIHRoZSBuZXh0CiAgICAvLyBzdGVwIG9mIHRoZSBnZW5lcmF0b3IuCiAgICBvdXRwdXRFbGVtZW50Lmxhc3RQcm9taXNlVmFsdWUgPSB2YWx1ZTsKICAgIHJldHVybiBuZXh0LnZhbHVlLnJlc3BvbnNlOwogIH0pOwp9CgovKioKICogR2VuZXJhdG9yIGZ1bmN0aW9uIHdoaWNoIGlzIGNhbGxlZCBiZXR3ZWVuIGVhY2ggYXN5bmMgc3RlcCBvZiB0aGUgdXBsb2FkCiAqIHByb2Nlc3MuCiAqIEBwYXJhbSB7c3RyaW5nfSBpbnB1dElkIEVsZW1lbnQgSUQgb2YgdGhlIGlucHV0IGZpbGUgcGlja2VyIGVsZW1lbnQuCiAqIEBwYXJhbSB7c3RyaW5nfSBvdXRwdXRJZCBFbGVtZW50IElEIG9mIHRoZSBvdXRwdXQgZGlzcGxheS4KICogQHJldHVybiB7IUl0ZXJhYmxlPCFPYmplY3Q+fSBJdGVyYWJsZSBvZiBuZXh0IHN0ZXBzLgogKi8KZnVuY3Rpb24qIHVwbG9hZEZpbGVzU3RlcChpbnB1dElkLCBvdXRwdXRJZCkgewogIGNvbnN0IGlucHV0RWxlbWVudCA9IGRvY3VtZW50LmdldEVsZW1lbnRCeUlkKGlucHV0SWQpOwogIGlucHV0RWxlbWVudC5kaXNhYmxlZCA9IGZhbHNlOwoKICBjb25zdCBvdXRwdXRFbGVtZW50ID0gZG9jdW1lbnQuZ2V0RWxlbWVudEJ5SWQob3V0cHV0SWQpOwogIG91dHB1dEVsZW1lbnQuaW5uZXJIVE1MID0gJyc7CgogIGNvbnN0IHBpY2tlZFByb21pc2UgPSBuZXcgUHJvbWlzZSgocmVzb2x2ZSkgPT4gewogICAgaW5wdXRFbGVtZW50LmFkZEV2ZW50TGlzdGVuZXIoJ2NoYW5nZScsIChlKSA9PiB7CiAgICAgIHJlc29sdmUoZS50YXJnZXQuZmlsZXMpOwogICAgfSk7CiAgfSk7CgogIGNvbnN0IGNhbmNlbCA9IGRvY3VtZW50LmNyZWF0ZUVsZW1lbnQoJ2J1dHRvbicpOwogIGlucHV0RWxlbWVudC5wYXJlbnRFbGVtZW50LmFwcGVuZENoaWxkKGNhbmNlbCk7CiAgY2FuY2VsLnRleHRDb250ZW50ID0gJ0NhbmNlbCB1cGxvYWQnOwogIGNvbnN0IGNhbmNlbFByb21pc2UgPSBuZXcgUHJvbWlzZSgocmVzb2x2ZSkgPT4gewogICAgY2FuY2VsLm9uY2xpY2sgPSAoKSA9PiB7CiAgICAgIHJlc29sdmUobnVsbCk7CiAgICB9OwogIH0pOwoKICAvLyBXYWl0IGZvciB0aGUgdXNlciB0byBwaWNrIHRoZSBmaWxlcy4KICBjb25zdCBmaWxlcyA9IHlpZWxkIHsKICAgIHByb21pc2U6IFByb21pc2UucmFjZShbcGlja2VkUHJvbWlzZSwgY2FuY2VsUHJvbWlzZV0pLAogICAgcmVzcG9uc2U6IHsKICAgICAgYWN0aW9uOiAnc3RhcnRpbmcnLAogICAgfQogIH07CgogIGNhbmNlbC5yZW1vdmUoKTsKCiAgLy8gRGlzYWJsZSB0aGUgaW5wdXQgZWxlbWVudCBzaW5jZSBmdXJ0aGVyIHBpY2tzIGFyZSBub3QgYWxsb3dlZC4KICBpbnB1dEVsZW1lbnQuZGlzYWJsZWQgPSB0cnVlOwoKICBpZiAoIWZpbGVzKSB7CiAgICByZXR1cm4gewogICAgICByZXNwb25zZTogewogICAgICAgIGFjdGlvbjogJ2NvbXBsZXRlJywKICAgICAgfQogICAgfTsKICB9CgogIGZvciAoY29uc3QgZmlsZSBvZiBmaWxlcykgewogICAgY29uc3QgbGkgPSBkb2N1bWVudC5jcmVhdGVFbGVtZW50KCdsaScpOwogICAgbGkuYXBwZW5kKHNwYW4oZmlsZS5uYW1lLCB7Zm9udFdlaWdodDogJ2JvbGQnfSkpOwogICAgbGkuYXBwZW5kKHNwYW4oCiAgICAgICAgYCgke2ZpbGUudHlwZSB8fCAnbi9hJ30pIC0gJHtmaWxlLnNpemV9IGJ5dGVzLCBgICsKICAgICAgICBgbGFzdCBtb2RpZmllZDogJHsKICAgICAgICAgICAgZmlsZS5sYXN0TW9kaWZpZWREYXRlID8gZmlsZS5sYXN0TW9kaWZpZWREYXRlLnRvTG9jYWxlRGF0ZVN0cmluZygpIDoKICAgICAgICAgICAgICAgICAgICAgICAgICAgICAgICAgICAgJ24vYSd9IC0gYCkpOwogICAgY29uc3QgcGVyY2VudCA9IHNwYW4oJzAlIGRvbmUnKTsKICAgIGxpLmFwcGVuZENoaWxkKHBlcmNlbnQpOwoKICAgIG91dHB1dEVsZW1lbnQuYXBwZW5kQ2hpbGQobGkpOwoKICAgIGNvbnN0IGZpbGVEYXRhUHJvbWlzZSA9IG5ldyBQcm9taXNlKChyZXNvbHZlKSA9PiB7CiAgICAgIGNvbnN0IHJlYWRlciA9IG5ldyBGaWxlUmVhZGVyKCk7CiAgICAgIHJlYWRlci5vbmxvYWQgPSAoZSkgPT4gewogICAgICAgIHJlc29sdmUoZS50YXJnZXQucmVzdWx0KTsKICAgICAgfTsKICAgICAgcmVhZGVyLnJlYWRBc0FycmF5QnVmZmVyKGZpbGUpOwogICAgfSk7CiAgICAvLyBXYWl0IGZvciB0aGUgZGF0YSB0byBiZSByZWFkeS4KICAgIGxldCBmaWxlRGF0YSA9IHlpZWxkIHsKICAgICAgcHJvbWlzZTogZmlsZURhdGFQcm9taXNlLAogICAgICByZXNwb25zZTogewogICAgICAgIGFjdGlvbjogJ2NvbnRpbnVlJywKICAgICAgfQogICAgfTsKCiAgICAvLyBVc2UgYSBjaHVua2VkIHNlbmRpbmcgdG8gYXZvaWQgbWVzc2FnZSBzaXplIGxpbWl0cy4gU2VlIGIvNjIxMTU2NjAuCiAgICBsZXQgcG9zaXRpb24gPSAwOwogICAgZG8gewogICAgICBjb25zdCBsZW5ndGggPSBNYXRoLm1pbihmaWxlRGF0YS5ieXRlTGVuZ3RoIC0gcG9zaXRpb24sIE1BWF9QQVlMT0FEX1NJWkUpOwogICAgICBjb25zdCBjaHVuayA9IG5ldyBVaW50OEFycmF5KGZpbGVEYXRhLCBwb3NpdGlvbiwgbGVuZ3RoKTsKICAgICAgcG9zaXRpb24gKz0gbGVuZ3RoOwoKICAgICAgY29uc3QgYmFzZTY0ID0gYnRvYShTdHJpbmcuZnJvbUNoYXJDb2RlLmFwcGx5KG51bGwsIGNodW5rKSk7CiAgICAgIHlpZWxkIHsKICAgICAgICByZXNwb25zZTogewogICAgICAgICAgYWN0aW9uOiAnYXBwZW5kJywKICAgICAgICAgIGZpbGU6IGZpbGUubmFtZSwKICAgICAgICAgIGRhdGE6IGJhc2U2NCwKICAgICAgICB9LAogICAgICB9OwoKICAgICAgbGV0IHBlcmNlbnREb25lID0gZmlsZURhdGEuYnl0ZUxlbmd0aCA9PT0gMCA/CiAgICAgICAgICAxMDAgOgogICAgICAgICAgTWF0aC5yb3VuZCgocG9zaXRpb24gLyBmaWxlRGF0YS5ieXRlTGVuZ3RoKSAqIDEwMCk7CiAgICAgIHBlcmNlbnQudGV4dENvbnRlbnQgPSBgJHtwZXJjZW50RG9uZX0lIGRvbmVgOwoKICAgIH0gd2hpbGUgKHBvc2l0aW9uIDwgZmlsZURhdGEuYnl0ZUxlbmd0aCk7CiAgfQoKICAvLyBBbGwgZG9uZS4KICB5aWVsZCB7CiAgICByZXNwb25zZTogewogICAgICBhY3Rpb246ICdjb21wbGV0ZScsCiAgICB9CiAgfTsKfQoKc2NvcGUuZ29vZ2xlID0gc2NvcGUuZ29vZ2xlIHx8IHt9OwpzY29wZS5nb29nbGUuY29sYWIgPSBzY29wZS5nb29nbGUuY29sYWIgfHwge307CnNjb3BlLmdvb2dsZS5jb2xhYi5fZmlsZXMgPSB7CiAgX3VwbG9hZEZpbGVzLAogIF91cGxvYWRGaWxlc0NvbnRpbnVlLAp9Owp9KShzZWxmKTsK",
              "ok": true,
              "headers": [
                [
                  "content-type",
                  "application/javascript"
                ]
              ],
              "status": 200,
              "status_text": ""
            }
          },
          "base_uri": "https://localhost:8080/",
          "height": 89
        },
        "id": "34Emp7MdCgsb",
        "outputId": "48623ad0-f1ee-45c8-b6c8-88e9988da1c9"
      },
      "source": [
        "from google.colab import files\n",
        "\n",
        "uploaded = files.upload()\n",
        "\n",
        "for fn in uploaded.keys():\n",
        "  print('User uploaded file \"{name}\" with length {length} bytes'.format(\n",
        "      name=fn, length=len(uploaded[fn])))"
      ],
      "execution_count": 4,
      "outputs": [
        {
          "output_type": "display_data",
          "data": {
            "text/html": [
              "\n",
              "     <input type=\"file\" id=\"files-769fa919-306f-43ea-8b14-14c2aed30993\" name=\"files[]\" multiple disabled\n",
              "        style=\"border:none\" />\n",
              "     <output id=\"result-769fa919-306f-43ea-8b14-14c2aed30993\">\n",
              "      Upload widget is only available when the cell has been executed in the\n",
              "      current browser session. Please rerun this cell to enable.\n",
              "      </output>\n",
              "      <script src=\"/nbextensions/google.colab/files.js\"></script> "
            ],
            "text/plain": [
              "<IPython.core.display.HTML object>"
            ]
          },
          "metadata": {}
        },
        {
          "output_type": "stream",
          "name": "stdout",
          "text": [
            "Saving spam (1).csv to spam (1).csv\n",
            "User uploaded file \"spam (1).csv\" with length 503663 bytes\n"
          ]
        }
      ]
    },
    {
      "cell_type": "code",
      "metadata": {
        "id": "vDO52NAuCW3X"
      },
      "source": [
        "#importing the basic libraries\n",
        "import numpy as np # for numeric calculation\n",
        "import pandas as pd # for data manipulation\n",
        "import matplotlib.pyplot as plt # for visualization"
      ],
      "execution_count": 5,
      "outputs": []
    },
    {
      "cell_type": "code",
      "metadata": {
        "id": "2FnBL7oICXB8"
      },
      "source": [
        "#importing the data\n",
        "df=pd.read_csv(\"spam (1).csv\", encoding='latin-1')"
      ],
      "execution_count": 6,
      "outputs": []
    },
    {
      "cell_type": "code",
      "metadata": {
        "colab": {
          "base_uri": "https://localhost:8080/",
          "height": 142
        },
        "id": "jwNBKHzYCXKP",
        "outputId": "b8fe1e46-3fa6-4303-e753-0921116b1af5"
      },
      "source": [
        "#Eyeballing the data\n",
        "#Let's take a look at the first few rows of the table just to see what's in there\n",
        "df.head(3)"
      ],
      "execution_count": 7,
      "outputs": [
        {
          "output_type": "execute_result",
          "data": {
            "text/html": [
              "<div>\n",
              "<style scoped>\n",
              "    .dataframe tbody tr th:only-of-type {\n",
              "        vertical-align: middle;\n",
              "    }\n",
              "\n",
              "    .dataframe tbody tr th {\n",
              "        vertical-align: top;\n",
              "    }\n",
              "\n",
              "    .dataframe thead th {\n",
              "        text-align: right;\n",
              "    }\n",
              "</style>\n",
              "<table border=\"1\" class=\"dataframe\">\n",
              "  <thead>\n",
              "    <tr style=\"text-align: right;\">\n",
              "      <th></th>\n",
              "      <th>v1</th>\n",
              "      <th>v2</th>\n",
              "      <th>Unnamed: 2</th>\n",
              "      <th>Unnamed: 3</th>\n",
              "      <th>Unnamed: 4</th>\n",
              "    </tr>\n",
              "  </thead>\n",
              "  <tbody>\n",
              "    <tr>\n",
              "      <th>0</th>\n",
              "      <td>ham</td>\n",
              "      <td>Go until jurong point, crazy.. Available only ...</td>\n",
              "      <td>NaN</td>\n",
              "      <td>NaN</td>\n",
              "      <td>NaN</td>\n",
              "    </tr>\n",
              "    <tr>\n",
              "      <th>1</th>\n",
              "      <td>ham</td>\n",
              "      <td>Ok lar... Joking wif u oni...</td>\n",
              "      <td>NaN</td>\n",
              "      <td>NaN</td>\n",
              "      <td>NaN</td>\n",
              "    </tr>\n",
              "    <tr>\n",
              "      <th>2</th>\n",
              "      <td>spam</td>\n",
              "      <td>Free entry in 2 a wkly comp to win FA Cup fina...</td>\n",
              "      <td>NaN</td>\n",
              "      <td>NaN</td>\n",
              "      <td>NaN</td>\n",
              "    </tr>\n",
              "  </tbody>\n",
              "</table>\n",
              "</div>"
            ],
            "text/plain": [
              "     v1  ... Unnamed: 4\n",
              "0   ham  ...        NaN\n",
              "1   ham  ...        NaN\n",
              "2  spam  ...        NaN\n",
              "\n",
              "[3 rows x 5 columns]"
            ]
          },
          "metadata": {},
          "execution_count": 7
        }
      ]
    },
    {
      "cell_type": "code",
      "metadata": {
        "colab": {
          "base_uri": "https://localhost:8080/"
        },
        "id": "90WaV7jYCXSP",
        "outputId": "61e7117a-7f6a-4532-ae73-9cbceda6abad"
      },
      "source": [
        "#shape of the dataframe\n",
        "df.shape # contains 5572 rows and 5 columns"
      ],
      "execution_count": 8,
      "outputs": [
        {
          "output_type": "execute_result",
          "data": {
            "text/plain": [
              "(5572, 5)"
            ]
          },
          "metadata": {},
          "execution_count": 8
        }
      ]
    },
    {
      "cell_type": "code",
      "metadata": {
        "colab": {
          "base_uri": "https://localhost:8080/"
        },
        "id": "NPPX6iRcCXtK",
        "outputId": "2ff9fb9e-14fe-4ee3-8a42-cf117dc505ac"
      },
      "source": [
        "#let's check if there are any null/missing values\n",
        "df.isnull().sum()\n"
      ],
      "execution_count": 9,
      "outputs": [
        {
          "output_type": "execute_result",
          "data": {
            "text/plain": [
              "v1               0\n",
              "v2               0\n",
              "Unnamed: 2    5522\n",
              "Unnamed: 3    5560\n",
              "Unnamed: 4    5566\n",
              "dtype: int64"
            ]
          },
          "metadata": {},
          "execution_count": 9
        }
      ]
    },
    {
      "cell_type": "code",
      "metadata": {
        "id": "bE7Us9oxCX1O"
      },
      "source": [
        "#Let's drop the Unwanted columns, and rename the columns to something we can understand.\n",
        "df = df.drop(['Unnamed: 2','Unnamed: 3','Unnamed: 4'],axis=1)\n",
        "df = df.rename(columns = {'v1':'label','v2':'message'})"
      ],
      "execution_count": 10,
      "outputs": []
    },
    {
      "cell_type": "code",
      "metadata": {
        "colab": {
          "base_uri": "https://localhost:8080/",
          "height": 204
        },
        "id": "7X6K8ECyCX-X",
        "outputId": "db6c7231-2965-4791-dd26-78ca4ef17555"
      },
      "source": [
        "#after droping the columns, let'c check how the dataframe looks like with label and message features\n",
        "df.head()"
      ],
      "execution_count": 11,
      "outputs": [
        {
          "output_type": "execute_result",
          "data": {
            "text/html": [
              "<div>\n",
              "<style scoped>\n",
              "    .dataframe tbody tr th:only-of-type {\n",
              "        vertical-align: middle;\n",
              "    }\n",
              "\n",
              "    .dataframe tbody tr th {\n",
              "        vertical-align: top;\n",
              "    }\n",
              "\n",
              "    .dataframe thead th {\n",
              "        text-align: right;\n",
              "    }\n",
              "</style>\n",
              "<table border=\"1\" class=\"dataframe\">\n",
              "  <thead>\n",
              "    <tr style=\"text-align: right;\">\n",
              "      <th></th>\n",
              "      <th>label</th>\n",
              "      <th>message</th>\n",
              "    </tr>\n",
              "  </thead>\n",
              "  <tbody>\n",
              "    <tr>\n",
              "      <th>0</th>\n",
              "      <td>ham</td>\n",
              "      <td>Go until jurong point, crazy.. Available only ...</td>\n",
              "    </tr>\n",
              "    <tr>\n",
              "      <th>1</th>\n",
              "      <td>ham</td>\n",
              "      <td>Ok lar... Joking wif u oni...</td>\n",
              "    </tr>\n",
              "    <tr>\n",
              "      <th>2</th>\n",
              "      <td>spam</td>\n",
              "      <td>Free entry in 2 a wkly comp to win FA Cup fina...</td>\n",
              "    </tr>\n",
              "    <tr>\n",
              "      <th>3</th>\n",
              "      <td>ham</td>\n",
              "      <td>U dun say so early hor... U c already then say...</td>\n",
              "    </tr>\n",
              "    <tr>\n",
              "      <th>4</th>\n",
              "      <td>ham</td>\n",
              "      <td>Nah I don't think he goes to usf, he lives aro...</td>\n",
              "    </tr>\n",
              "  </tbody>\n",
              "</table>\n",
              "</div>"
            ],
            "text/plain": [
              "  label                                            message\n",
              "0   ham  Go until jurong point, crazy.. Available only ...\n",
              "1   ham                      Ok lar... Joking wif u oni...\n",
              "2  spam  Free entry in 2 a wkly comp to win FA Cup fina...\n",
              "3   ham  U dun say so early hor... U c already then say...\n",
              "4   ham  Nah I don't think he goes to usf, he lives aro..."
            ]
          },
          "metadata": {},
          "execution_count": 11
        }
      ]
    },
    {
      "cell_type": "code",
      "metadata": {
        "id": "bo_tHCTlCYGk"
      },
      "source": [
        "#Let's drop the duplicate rows present in the dataset.\n",
        "\n",
        "df.drop_duplicates(subset =\"message\", keep = False, inplace = True)"
      ],
      "execution_count": 12,
      "outputs": []
    },
    {
      "cell_type": "code",
      "metadata": {
        "colab": {
          "base_uri": "https://localhost:8080/"
        },
        "id": "SYHrkt8JCYQl",
        "outputId": "db49e712-e309-4042-ae3b-4d157cf77b22"
      },
      "source": [
        "#lets check the shape if the datapoins have been reduced or not ?\n",
        "df.shape   # previsously the datapoins was 5572"
      ],
      "execution_count": 13,
      "outputs": [
        {
          "output_type": "execute_result",
          "data": {
            "text/plain": [
              "(4888, 2)"
            ]
          },
          "metadata": {},
          "execution_count": 13
        }
      ]
    },
    {
      "cell_type": "markdown",
      "metadata": {
        "id": "-lgwafobDsYc"
      },
      "source": [
        "YESS!! That means we had a few duplicate data points, but now they are removed. We'll mapping 0 and 1 values for the labels."
      ]
    },
    {
      "cell_type": "code",
      "metadata": {
        "id": "BZTuwT5ICYiT"
      },
      "source": [
        "df['label'] = df['label'].map({'ham': 0, 'spam': 1})"
      ],
      "execution_count": 14,
      "outputs": []
    },
    {
      "cell_type": "code",
      "metadata": {
        "colab": {
          "base_uri": "https://localhost:8080/",
          "height": 204
        },
        "id": "b1iZ29ZMCYqu",
        "outputId": "3699e3d8-75f6-4632-e638-17a4e0a6e3c2"
      },
      "source": [
        "#let's see the length of each message of the first 5 rows\n",
        "\n",
        "df['length'] = df['message'].apply(len)\n",
        "df.head()"
      ],
      "execution_count": 15,
      "outputs": [
        {
          "output_type": "execute_result",
          "data": {
            "text/html": [
              "<div>\n",
              "<style scoped>\n",
              "    .dataframe tbody tr th:only-of-type {\n",
              "        vertical-align: middle;\n",
              "    }\n",
              "\n",
              "    .dataframe tbody tr th {\n",
              "        vertical-align: top;\n",
              "    }\n",
              "\n",
              "    .dataframe thead th {\n",
              "        text-align: right;\n",
              "    }\n",
              "</style>\n",
              "<table border=\"1\" class=\"dataframe\">\n",
              "  <thead>\n",
              "    <tr style=\"text-align: right;\">\n",
              "      <th></th>\n",
              "      <th>label</th>\n",
              "      <th>message</th>\n",
              "      <th>length</th>\n",
              "    </tr>\n",
              "  </thead>\n",
              "  <tbody>\n",
              "    <tr>\n",
              "      <th>0</th>\n",
              "      <td>0</td>\n",
              "      <td>Go until jurong point, crazy.. Available only ...</td>\n",
              "      <td>111</td>\n",
              "    </tr>\n",
              "    <tr>\n",
              "      <th>1</th>\n",
              "      <td>0</td>\n",
              "      <td>Ok lar... Joking wif u oni...</td>\n",
              "      <td>29</td>\n",
              "    </tr>\n",
              "    <tr>\n",
              "      <th>3</th>\n",
              "      <td>0</td>\n",
              "      <td>U dun say so early hor... U c already then say...</td>\n",
              "      <td>49</td>\n",
              "    </tr>\n",
              "    <tr>\n",
              "      <th>4</th>\n",
              "      <td>0</td>\n",
              "      <td>Nah I don't think he goes to usf, he lives aro...</td>\n",
              "      <td>61</td>\n",
              "    </tr>\n",
              "    <tr>\n",
              "      <th>5</th>\n",
              "      <td>1</td>\n",
              "      <td>FreeMsg Hey there darling it's been 3 week's n...</td>\n",
              "      <td>148</td>\n",
              "    </tr>\n",
              "  </tbody>\n",
              "</table>\n",
              "</div>"
            ],
            "text/plain": [
              "   label                                            message  length\n",
              "0      0  Go until jurong point, crazy.. Available only ...     111\n",
              "1      0                      Ok lar... Joking wif u oni...      29\n",
              "3      0  U dun say so early hor... U c already then say...      49\n",
              "4      0  Nah I don't think he goes to usf, he lives aro...      61\n",
              "5      1  FreeMsg Hey there darling it's been 3 week's n...     148"
            ]
          },
          "metadata": {},
          "execution_count": 15
        }
      ]
    },
    {
      "cell_type": "code",
      "metadata": {
        "colab": {
          "base_uri": "https://localhost:8080/",
          "height": 513
        },
        "id": "cxGEo4jVCY3d",
        "outputId": "9b3baa99-f2c4-4df7-9c6c-7893355149fb"
      },
      "source": [
        "#Visualization\n",
        "\n",
        "# Countplot for Spam vs. Ham as balanced dataset\n",
        "import seaborn as sns # for visualization\n",
        "plt.figure(figsize=(8,8))\n",
        "g = sns.countplot(x='label', data=df)\n",
        "p = plt.title('Countplot for Spam vs. Ham as balanced dataset', fontweight='bold')\n",
        "p = plt.xlabel('Is SMS Spam?', fontweight='bold')\n",
        "p = plt.ylabel('Count', fontweight='bold')"
      ],
      "execution_count": 16,
      "outputs": [
        {
          "output_type": "display_data",
          "data": {
            "image/png": "[encoded data removed]",
            "text/plain": [
              "<Figure size 576x576 with 1 Axes>"
            ]
          },
          "metadata": {
            "needs_background": "light"
          }
        }
      ]
    },
    {
      "cell_type": "code",
      "metadata": {
        "colab": {
          "base_uri": "https://localhost:8080/",
          "height": 344
        },
        "id": "NWUd5zz1D3ru",
        "outputId": "bc0384f6-38fe-4afe-c586-76fdc4210bb2"
      },
      "source": [
        "plt.rcParams['patch.force_edgecolor'] = True\n",
        "plt.style.use('ggplot')\n",
        "df.hist(column='length', by='label', bins=50, figsize=(11,5));"
      ],
      "execution_count": 17,
      "outputs": [
        {
          "output_type": "display_data",
          "data": {
            "image/png": "[encoded data removed]",
            "text/plain": [
              "<Figure size 792x360 with 2 Axes>"
            ]
          },
          "metadata": {}
        }
      ]
    },
    {
      "cell_type": "code",
      "metadata": {
        "colab": {
          "base_uri": "https://localhost:8080/",
          "height": 297
        },
        "id": "vFDu1QQxD33A",
        "outputId": "8b92c151-8034-444b-b87d-dc3323bdcfa7"
      },
      "source": [
        "df.describe()"
      ],
      "execution_count": 18,
      "outputs": [
        {
          "output_type": "execute_result",
          "data": {
            "text/html": [
              "<div>\n",
              "<style scoped>\n",
              "    .dataframe tbody tr th:only-of-type {\n",
              "        vertical-align: middle;\n",
              "    }\n",
              "\n",
              "    .dataframe tbody tr th {\n",
              "        vertical-align: top;\n",
              "    }\n",
              "\n",
              "    .dataframe thead th {\n",
              "        text-align: right;\n",
              "    }\n",
              "</style>\n",
              "<table border=\"1\" class=\"dataframe\">\n",
              "  <thead>\n",
              "    <tr style=\"text-align: right;\">\n",
              "      <th></th>\n",
              "      <th>label</th>\n",
              "      <th>length</th>\n",
              "    </tr>\n",
              "  </thead>\n",
              "  <tbody>\n",
              "    <tr>\n",
              "      <th>count</th>\n",
              "      <td>4888.000000</td>\n",
              "      <td>4888.000000</td>\n",
              "    </tr>\n",
              "    <tr>\n",
              "      <th>mean</th>\n",
              "      <td>0.115794</td>\n",
              "      <td>77.338380</td>\n",
              "    </tr>\n",
              "    <tr>\n",
              "      <th>std</th>\n",
              "      <td>0.320010</td>\n",
              "      <td>56.812841</td>\n",
              "    </tr>\n",
              "    <tr>\n",
              "      <th>min</th>\n",
              "      <td>0.000000</td>\n",
              "      <td>3.000000</td>\n",
              "    </tr>\n",
              "    <tr>\n",
              "      <th>25%</th>\n",
              "      <td>0.000000</td>\n",
              "      <td>36.000000</td>\n",
              "    </tr>\n",
              "    <tr>\n",
              "      <th>50%</th>\n",
              "      <td>0.000000</td>\n",
              "      <td>59.000000</td>\n",
              "    </tr>\n",
              "    <tr>\n",
              "      <th>75%</th>\n",
              "      <td>0.000000</td>\n",
              "      <td>112.000000</td>\n",
              "    </tr>\n",
              "    <tr>\n",
              "      <th>max</th>\n",
              "      <td>1.000000</td>\n",
              "      <td>910.000000</td>\n",
              "    </tr>\n",
              "  </tbody>\n",
              "</table>\n",
              "</div>"
            ],
            "text/plain": [
              "             label       length\n",
              "count  4888.000000  4888.000000\n",
              "mean      0.115794    77.338380\n",
              "std       0.320010    56.812841\n",
              "min       0.000000     3.000000\n",
              "25%       0.000000    36.000000\n",
              "50%       0.000000    59.000000\n",
              "75%       0.000000   112.000000\n",
              "max       1.000000   910.000000"
            ]
          },
          "metadata": {},
          "execution_count": 18
        }
      ]
    },
    {
      "cell_type": "code",
      "metadata": {
        "colab": {
          "base_uri": "https://localhost:8080/"
        },
        "id": "Zwr9D5H9D4CB",
        "outputId": "b41f26d0-7291-4384-904f-291a727c0f72"
      },
      "source": [
        "# Now, let's do some basic statistical analysis of the attributes.\n",
        "for i in df.columns:\n",
        "  print(\"Basic Statistics for Feature: {0}\".format(i))\n",
        "  print(df[i].describe())\n",
        "  print(\"==========================================\")"
      ],
      "execution_count": 19,
      "outputs": [
        {
          "output_type": "stream",
          "name": "stdout",
          "text": [
            "Basic Statistics for Feature: label\n",
            "count    4888.000000\n",
            "mean        0.115794\n",
            "std         0.320010\n",
            "min         0.000000\n",
            "25%         0.000000\n",
            "50%         0.000000\n",
            "75%         0.000000\n",
            "max         1.000000\n",
            "Name: label, dtype: float64\n",
            "==========================================\n",
            "Basic Statistics for Feature: message\n",
            "count                                                  4888\n",
            "unique                                                 4888\n",
            "top       Also that chat was awesome but don't make it r...\n",
            "freq                                                      1\n",
            "Name: message, dtype: object\n",
            "==========================================\n",
            "Basic Statistics for Feature: length\n",
            "count    4888.000000\n",
            "mean       77.338380\n",
            "std        56.812841\n",
            "min         3.000000\n",
            "25%        36.000000\n",
            "50%        59.000000\n",
            "75%       112.000000\n",
            "max       910.000000\n",
            "Name: length, dtype: float64\n",
            "==========================================\n"
          ]
        }
      ]
    },
    {
      "cell_type": "markdown",
      "metadata": {
        "id": "YNEUb79PET2q"
      },
      "source": [
        "**NLTK**\n",
        "We'll use nltk stopwords to remove words which provide us no valuable information."
      ]
    },
    {
      "cell_type": "markdown",
      "metadata": {
        "id": "tgHHrkw4EYo4"
      },
      "source": [
        "**stopwords**"
      ]
    },
    {
      "cell_type": "code",
      "metadata": {
        "colab": {
          "base_uri": "https://localhost:8080/"
        },
        "id": "qGmy5sCBD4LP",
        "outputId": "cc1cd703-cd68-4f31-b2e5-892fa984d242"
      },
      "source": [
        "import nltk \n",
        "from nltk.corpus import stopwords\n",
        "nltk.download('stopwords')"
      ],
      "execution_count": 20,
      "outputs": [
        {
          "output_type": "stream",
          "name": "stdout",
          "text": [
            "[nltk_data] Downloading package stopwords to /root/nltk_data...\n",
            "[nltk_data]   Unzipping corpora/stopwords.zip.\n"
          ]
        },
        {
          "output_type": "execute_result",
          "data": {
            "text/plain": [
              "True"
            ]
          },
          "metadata": {},
          "execution_count": 20
        }
      ]
    },
    {
      "cell_type": "code",
      "metadata": {
        "id": "-pQVmHhZD4T4"
      },
      "source": [
        "# I'll write a helper function which will preprocess our texts.\n",
        "\n",
        "import string\n",
        "def process_text(text):\n",
        "  nopunc = [char for char in text if char not in string.punctuation]\n",
        "  nopunc = ''.join(nopunc)\n",
        "\n",
        "  clean_words = [word for word in nopunc.split() if word.lower() not in stopwords.words('english')]\n",
        "\n",
        "  return clean_words"
      ],
      "execution_count": 21,
      "outputs": []
    },
    {
      "cell_type": "code",
      "metadata": {
        "colab": {
          "base_uri": "https://localhost:8080/"
        },
        "id": "WyHgfDbOD4eS",
        "outputId": "1b4aa884-d9c2-4d39-b554-7ff8de5034e3"
      },
      "source": [
        "#let's apply the function to the complete dataset of feature 'message'\n",
        "df['message'].head().apply(process_text)"
      ],
      "execution_count": 22,
      "outputs": [
        {
          "output_type": "execute_result",
          "data": {
            "text/plain": [
              "0    [Go, jurong, point, crazy, Available, bugis, n...\n",
              "1                       [Ok, lar, Joking, wif, u, oni]\n",
              "3        [U, dun, say, early, hor, U, c, already, say]\n",
              "4    [Nah, dont, think, goes, usf, lives, around, t...\n",
              "5    [FreeMsg, Hey, darling, 3, weeks, word, back, ...\n",
              "Name: message, dtype: object"
            ]
          },
          "metadata": {},
          "execution_count": 22
        }
      ]
    },
    {
      "cell_type": "code",
      "metadata": {
        "colab": {
          "base_uri": "https://localhost:8080/",
          "height": 111
        },
        "id": "YOWy7PokD4oh",
        "outputId": "ae8720d4-d9bb-40b2-c6f6-f61bffdf20c9"
      },
      "source": [
        "df.head(2)"
      ],
      "execution_count": 23,
      "outputs": [
        {
          "output_type": "execute_result",
          "data": {
            "text/html": [
              "<div>\n",
              "<style scoped>\n",
              "    .dataframe tbody tr th:only-of-type {\n",
              "        vertical-align: middle;\n",
              "    }\n",
              "\n",
              "    .dataframe tbody tr th {\n",
              "        vertical-align: top;\n",
              "    }\n",
              "\n",
              "    .dataframe thead th {\n",
              "        text-align: right;\n",
              "    }\n",
              "</style>\n",
              "<table border=\"1\" class=\"dataframe\">\n",
              "  <thead>\n",
              "    <tr style=\"text-align: right;\">\n",
              "      <th></th>\n",
              "      <th>label</th>\n",
              "      <th>message</th>\n",
              "      <th>length</th>\n",
              "    </tr>\n",
              "  </thead>\n",
              "  <tbody>\n",
              "    <tr>\n",
              "      <th>0</th>\n",
              "      <td>0</td>\n",
              "      <td>Go until jurong point, crazy.. Available only ...</td>\n",
              "      <td>111</td>\n",
              "    </tr>\n",
              "    <tr>\n",
              "      <th>1</th>\n",
              "      <td>0</td>\n",
              "      <td>Ok lar... Joking wif u oni...</td>\n",
              "      <td>29</td>\n",
              "    </tr>\n",
              "  </tbody>\n",
              "</table>\n",
              "</div>"
            ],
            "text/plain": [
              "   label                                            message  length\n",
              "0      0  Go until jurong point, crazy.. Available only ...     111\n",
              "1      0                      Ok lar... Joking wif u oni...      29"
            ]
          },
          "metadata": {},
          "execution_count": 23
        }
      ]
    },
    {
      "cell_type": "markdown",
      "metadata": {
        "id": "v6WUF8LbE3JO"
      },
      "source": [
        "**Bag of Words**"
      ]
    },
    {
      "cell_type": "code",
      "metadata": {
        "id": "3JhKblJeD4yz"
      },
      "source": [
        "#Let's convert all our text in the dataframe to a bag of words matrix.\n",
        "import pickle\n",
        "from sklearn.feature_extraction.text import CountVectorizer\n",
        "cv = CountVectorizer(analyzer=process_text)\n",
        "message_bow = cv.fit_transform(df['message'])\n",
        "\n",
        "# Creating a pickle file for the text transformation\n",
        "pickle.dump(cv, open('cv-transform.pkl', 'wb'))"
      ],
      "execution_count": 24,
      "outputs": []
    },
    {
      "cell_type": "code",
      "metadata": {
        "colab": {
          "base_uri": "https://localhost:8080/"
        },
        "id": "8sJgEiyiD4-J",
        "outputId": "b4346e89-c5cf-4566-ed12-e8c0efc355de"
      },
      "source": [
        "#Let's see how many unique tokens (without stopwords) are made by CountVectorizer.\n",
        "message_bow.shape"
      ],
      "execution_count": 25,
      "outputs": [
        {
          "output_type": "execute_result",
          "data": {
            "text/plain": [
              "(4888, 10596)"
            ]
          },
          "metadata": {},
          "execution_count": 25
        }
      ]
    },
    {
      "cell_type": "code",
      "metadata": {
        "colab": {
          "base_uri": "https://localhost:8080/"
        },
        "id": "oTNHyYseXAqu",
        "outputId": "96270c7b-96f1-455b-c4d9-12f69c7eb1c3"
      },
      "source": [
        "message_bow"
      ],
      "execution_count": 26,
      "outputs": [
        {
          "output_type": "execute_result",
          "data": {
            "text/plain": [
              "<4888x10596 sparse matrix of type '<class 'numpy.int64'>'\n",
              "\twith 42506 stored elements in Compressed Sparse Row format>"
            ]
          },
          "metadata": {},
          "execution_count": 26
        }
      ]
    },
    {
      "cell_type": "code",
      "metadata": {
        "id": "HrZjPrsPY19o"
      },
      "source": [
        "#seperating the dependent and Independent variables\n",
        "X=message_bow\n",
        "y=df['label']"
      ],
      "execution_count": 27,
      "outputs": []
    },
    {
      "cell_type": "code",
      "metadata": {
        "id": "sWz0dfDXD5Jh"
      },
      "source": [
        "#splitting the data into train and validation sets in the ratio of 80:20\n",
        "\n",
        "from sklearn.model_selection import train_test_split as tts\n",
        "X_train, x_validation, Y_train, y_validation = tts(message_bow,\n",
        "                                                                df['label'],\n",
        "                                                                test_size=0.2,\n",
        "                                                                stratify=df['label'],\n",
        "                                                                random_state=0)"
      ],
      "execution_count": 28,
      "outputs": []
    },
    {
      "cell_type": "code",
      "metadata": {
        "colab": {
          "base_uri": "https://localhost:8080/"
        },
        "id": "pf2vQm-yFPdc",
        "outputId": "1954f153-94fb-4d8b-a030-7f0e0f1db544"
      },
      "source": [
        "X_train.shape,x_validation.shape,Y_train.shape,y_validation.shape"
      ],
      "execution_count": 29,
      "outputs": [
        {
          "output_type": "execute_result",
          "data": {
            "text/plain": [
              "((3910, 10596), (978, 10596), (3910,), (978,))"
            ]
          },
          "metadata": {},
          "execution_count": 29
        }
      ]
    },
    {
      "cell_type": "markdown",
      "metadata": {
        "id": "_U9ol4YnFcKt"
      },
      "source": [
        "**Step-2: MODEL BUILDING**"
      ]
    },
    {
      "cell_type": "code",
      "metadata": {
        "id": "dWHehUuEFPn1"
      },
      "source": [
        "# Let's import all the ML algorithms we'll be using here.\n",
        "from sklearn.neighbors import KNeighborsClassifier #KNN Classifier\n",
        "from sklearn.linear_model import LogisticRegression  # logistic Regression\n",
        "from sklearn.svm import SVC   # Support vector machine classifier\n",
        "from sklearn.naive_bayes import MultinomialNB # naive_bayes MultinomialNB classifier\n",
        "from sklearn.tree import DecisionTreeClassifier # DecisionTree classifier\n",
        "from sklearn.ensemble import RandomForestClassifier # RandomForest classifier\n",
        "from sklearn.ensemble import ExtraTreesClassifier  # ExtraTrees classifier\n",
        "from sklearn.ensemble import AdaBoostClassifier # AdaBoost Classifier\n",
        "from sklearn.ensemble import GradientBoostingClassifier #GradientBoosting Classifier\n",
        "from lightgbm import LGBMClassifier    #LightGradientBoostingMethod Classifier\n",
        "from xgboost import XGBClassifier  #XtremeGradientBoosting Classifier"
      ],
      "execution_count": 30,
      "outputs": []
    },
    {
      "cell_type": "markdown",
      "metadata": {
        "id": "KRaGONCHFtzd"
      },
      "source": [
        "Here is something very interesting, I'll write a utility function which will input all the algorithms with the model parameters. We'll use ShuffleSplit and GridSearchCV for finding which ML algorithm (and their respective parameters) works best for this task."
      ]
    },
    {
      "cell_type": "code",
      "metadata": {
        "colab": {
          "base_uri": "https://localhost:8080/",
          "height": 266
        },
        "id": "40jaTAn3FQLp",
        "outputId": "3498cb42-1229-4f15-f8e7-912512caba4f"
      },
      "source": [
        "from sklearn.model_selection import GridSearchCV, ShuffleSplit\n",
        "\n",
        "\n",
        "def find_best_model(X, y):\n",
        "    models = {\n",
        "        'Logistic_Regression': {\n",
        "            'model': LogisticRegression(solver='lbfgs', multi_class='auto'),\n",
        "            'parameters': {\n",
        "                'C': [1,5,10]\n",
        "               }\n",
        "        },\n",
        "        \n",
        "        'Decision_Tree': {\n",
        "            'model': DecisionTreeClassifier(splitter='best'),\n",
        "            'parameters': {\n",
        "                'criterion': ['gini', 'entropy'],\n",
        "                'max_depth': [5, 10]\n",
        "            }\n",
        "        },\n",
        "        \n",
        "        'Random_Forest': {\n",
        "            'model': RandomForestClassifier(criterion='gini'),\n",
        "            'parameters': {\n",
        "                'n_estimators': [10,15,20,50,100,200]\n",
        "            }\n",
        "        },\n",
        "        \n",
        "        'SVM': {\n",
        "            'model': SVC(gamma='auto'),\n",
        "            'parameters': {\n",
        "                'C': [1,10,20],\n",
        "                'kernel': ['rbf','linear']\n",
        "            }\n",
        "        },\n",
        "\n",
        "        'Multinomial_Naive_Bayes': {\n",
        "            'model': MultinomialNB(),\n",
        "            'parameters': {\n",
        "                'alpha': [0.5, 1, 2, 3, 5, 10]\n",
        "            }\n",
        "        },\n",
        "\n",
        "        'KNN': {\n",
        "            'model': KNeighborsClassifier(),\n",
        "            'parameters': {\n",
        "                'n_neighbors': [1, 2, 3, 4, 5, 6, 8, 10, 20]\n",
        "            }\n",
        "        },\n",
        "\n",
        "        'Extra_Tree': {\n",
        "            'model': ExtraTreesClassifier(),\n",
        "            'parameters': {\n",
        "                'n_estimators': [1, 5, 10, 20, 30, 40, 50, 60, 70, 100, 150, 200],\n",
        "                'max_depth': [1, 2, 5, 6, 7, 8, 10, 20, 30],\n",
        "                'criterion': ['gini', 'entropy']\n",
        "            }\n",
        "        }\n",
        "\n",
        "    }\n",
        "\n",
        "    scores = [] \n",
        "    cv_shuffle = ShuffleSplit(n_splits=7, test_size=0.20, random_state=0)\n",
        "        \n",
        "    for model_name, model_params in models.items():\n",
        "        gs = GridSearchCV(model_params['model'], model_params['parameters'], cv = cv_shuffle, return_train_score=False)\n",
        "        gs.fit(X, y)\n",
        "        scores.append({\n",
        "            'model': model_name,\n",
        "            'best_parameters': gs.best_params_,\n",
        "            'score': gs.best_score_\n",
        "        })\n",
        "        \n",
        "    return pd.DataFrame(scores, columns=['model','best_parameters','score'])\n",
        "\n",
        "find_best_model(X_train, Y_train)"
      ],
      "execution_count": 31,
      "outputs": [
        {
          "output_type": "execute_result",
          "data": {
            "text/html": [
              "<div>\n",
              "<style scoped>\n",
              "    .dataframe tbody tr th:only-of-type {\n",
              "        vertical-align: middle;\n",
              "    }\n",
              "\n",
              "    .dataframe tbody tr th {\n",
              "        vertical-align: top;\n",
              "    }\n",
              "\n",
              "    .dataframe thead th {\n",
              "        text-align: right;\n",
              "    }\n",
              "</style>\n",
              "<table border=\"1\" class=\"dataframe\">\n",
              "  <thead>\n",
              "    <tr style=\"text-align: right;\">\n",
              "      <th></th>\n",
              "      <th>model</th>\n",
              "      <th>best_parameters</th>\n",
              "      <th>score</th>\n",
              "    </tr>\n",
              "  </thead>\n",
              "  <tbody>\n",
              "    <tr>\n",
              "      <th>0</th>\n",
              "      <td>Logistic_Regression</td>\n",
              "      <td>{'C': 10}</td>\n",
              "      <td>0.972963</td>\n",
              "    </tr>\n",
              "    <tr>\n",
              "      <th>1</th>\n",
              "      <td>Decision_Tree</td>\n",
              "      <td>{'criterion': 'gini', 'max_depth': 10}</td>\n",
              "      <td>0.947205</td>\n",
              "    </tr>\n",
              "    <tr>\n",
              "      <th>2</th>\n",
              "      <td>Random_Forest</td>\n",
              "      <td>{'n_estimators': 200}</td>\n",
              "      <td>0.964194</td>\n",
              "    </tr>\n",
              "    <tr>\n",
              "      <th>3</th>\n",
              "      <td>SVM</td>\n",
              "      <td>{'C': 1, 'kernel': 'linear'}</td>\n",
              "      <td>0.975703</td>\n",
              "    </tr>\n",
              "    <tr>\n",
              "      <th>4</th>\n",
              "      <td>Multinomial_Naive_Bayes</td>\n",
              "      <td>{'alpha': 3}</td>\n",
              "      <td>0.972598</td>\n",
              "    </tr>\n",
              "    <tr>\n",
              "      <th>5</th>\n",
              "      <td>KNN</td>\n",
              "      <td>{'n_neighbors': 1}</td>\n",
              "      <td>0.933687</td>\n",
              "    </tr>\n",
              "    <tr>\n",
              "      <th>6</th>\n",
              "      <td>Extra_Tree</td>\n",
              "      <td>{'criterion': 'entropy', 'max_depth': 30, 'n_e...</td>\n",
              "      <td>0.937523</td>\n",
              "    </tr>\n",
              "  </tbody>\n",
              "</table>\n",
              "</div>"
            ],
            "text/plain": [
              "                     model  ...     score\n",
              "0      Logistic_Regression  ...  0.972963\n",
              "1            Decision_Tree  ...  0.947205\n",
              "2            Random_Forest  ...  0.964194\n",
              "3                      SVM  ...  0.975703\n",
              "4  Multinomial_Naive_Bayes  ...  0.972598\n",
              "5                      KNN  ...  0.933687\n",
              "6               Extra_Tree  ...  0.937523\n",
              "\n",
              "[7 rows x 3 columns]"
            ]
          },
          "metadata": {},
          "execution_count": 31
        }
      ]
    },
    {
      "cell_type": "markdown",
      "metadata": {
        "id": "VK7TJKyXnVJL"
      },
      "source": [
        "The results are quite interesting, I thought the Multinomial Naive Bayes Algorithm will be the best for this task, but Support Vector Machine is the best as it has the highest score. So we'll create 2 final classifiers and evaluate each classifiers metrics."
      ]
    },
    {
      "cell_type": "markdown",
      "metadata": {
        "id": "QgI7ShOwoNGK"
      },
      "source": [
        "**Model Building of Support Vector Machine**"
      ]
    },
    {
      "cell_type": "code",
      "metadata": {
        "id": "iQUiiUPwlmLR"
      },
      "source": [
        "\n",
        "# Creating Support Vector Machine Model\n",
        "classifier = SVC(C=1.0, kernel='linear')\n",
        "classifier.fit(X_train, Y_train) #fitting the model\n",
        "y_pred_train = classifier.predict(X_train) # generating predictions over the training data\n",
        "y_pred = classifier.predict(x_validation) #generating predictions overr the test data\n"
      ],
      "execution_count": 32,
      "outputs": []
    },
    {
      "cell_type": "markdown",
      "metadata": {
        "id": "eOQQ1l_Pteuj"
      },
      "source": [
        "**STEP-3: MODEL EVALUATION METRICS for support vector Machine**"
      ]
    },
    {
      "cell_type": "code",
      "metadata": {
        "id": "MiIxP3KnlmhM",
        "colab": {
          "base_uri": "https://localhost:8080/"
        },
        "outputId": "30929733-011f-4fbe-faaf-fe698553c5ce"
      },
      "source": [
        "from sklearn.metrics import confusion_matrix, classification_report, accuracy_score\n",
        "import seaborn as sns\n",
        "print(\"metrics on training data==========\")\n",
        "print(classification_report(Y_train, y_pred_train))\n",
        "print(\"Confusion Matrix: \\n\", confusion_matrix(Y_train, y_pred_train))\n",
        "print()\n",
        "print(\"Accuracy_score of y_pred_train: \", accuracy_score(Y_train, y_pred_train))\n",
        "\n",
        "\n",
        "print(\"metrics on testing data===========\")\n",
        "y_pred = classifier.predict(x_validation)\n",
        "print(classification_report(y_validation, y_pred))\n",
        "print()\n",
        "print(\"Confusion Matrix: \\n\", confusion_matrix(y_validation, y_pred))\n",
        "print()\n",
        "print(\"Accuracy score of testing data: \", accuracy_score(y_validation, y_pred))"
      ],
      "execution_count": 33,
      "outputs": [
        {
          "output_type": "stream",
          "name": "stdout",
          "text": [
            "metrics on training data==========\n",
            "              precision    recall  f1-score   support\n",
            "\n",
            "           0       1.00      1.00      1.00      3457\n",
            "           1       1.00      1.00      1.00       453\n",
            "\n",
            "    accuracy                           1.00      3910\n",
            "   macro avg       1.00      1.00      1.00      3910\n",
            "weighted avg       1.00      1.00      1.00      3910\n",
            "\n",
            "Confusion Matrix: \n",
            " [[3457    0]\n",
            " [   0  453]]\n",
            "\n",
            "Accuracy_score of y_pred_train:  1.0\n",
            "metrics on testing data===========\n",
            "              precision    recall  f1-score   support\n",
            "\n",
            "           0       0.98      1.00      0.99       865\n",
            "           1       0.99      0.83      0.90       113\n",
            "\n",
            "    accuracy                           0.98       978\n",
            "   macro avg       0.98      0.92      0.95       978\n",
            "weighted avg       0.98      0.98      0.98       978\n",
            "\n",
            "\n",
            "Confusion Matrix: \n",
            " [[864   1]\n",
            " [ 19  94]]\n",
            "\n",
            "Accuracy score of testing data:  0.9795501022494888\n"
          ]
        }
      ]
    },
    {
      "cell_type": "markdown",
      "metadata": {
        "id": "wuQofwZ_vFGd"
      },
      "source": [
        "**Model Building for naive_bayes Multinomial**"
      ]
    },
    {
      "cell_type": "code",
      "metadata": {
        "id": "WU4gjfa0FQe5"
      },
      "source": [
        "# Creating Multinomial Naive Bayes Model\n",
        "classifier2 = MultinomialNB(alpha=3.0)\n",
        "classifier2.fit(X_train, Y_train) #fitting the model\n",
        "y_pred_train2 = classifier2.predict(X_train) #generating predictions over the training data\n",
        "y_pred2 = classifier2.predict(x_validation) #generating predictions over the test data"
      ],
      "execution_count": 34,
      "outputs": []
    },
    {
      "cell_type": "markdown",
      "metadata": {
        "id": "xIzlEQkivs6u"
      },
      "source": [
        "**Model Evaluation metrics on naive_bayes Multinomial**"
      ]
    },
    {
      "cell_type": "code",
      "metadata": {
        "id": "EttlblNLFQm0",
        "colab": {
          "base_uri": "https://localhost:8080/"
        },
        "outputId": "703efa62-9945-43c1-8f4d-4f9f15403dc3"
      },
      "source": [
        "print(\"metrics on training data========================================================================\")\n",
        "print(classification_report(Y_train, y_pred_train2))\n",
        "print()\n",
        "print(\"Confusion Matrix: \\n\", confusion_matrix(Y_train, y_pred_train2))\n",
        "print()\n",
        "print(\"Accuracy: \", accuracy_score(Y_train, y_pred_train2))\n",
        "print(\"metrics on testing data===========================================================================\")\n",
        "y_pred = classifier2.predict(x_validation)\n",
        "print(classification_report(y_validation, y_pred2))\n",
        "print()\n",
        "print(\"Confusion Matrix: \\n\", confusion_matrix(y_validation, y_pred2))\n",
        "print()\n",
        "print(\"Accuracy: \", accuracy_score(y_validation, y_pred2))"
      ],
      "execution_count": 35,
      "outputs": [
        {
          "output_type": "stream",
          "name": "stdout",
          "text": [
            "metrics on training data========================================================================\n",
            "              precision    recall  f1-score   support\n",
            "\n",
            "           0       0.99      1.00      0.99      3457\n",
            "           1       0.99      0.91      0.95       453\n",
            "\n",
            "    accuracy                           0.99      3910\n",
            "   macro avg       0.99      0.96      0.97      3910\n",
            "weighted avg       0.99      0.99      0.99      3910\n",
            "\n",
            "\n",
            "Confusion Matrix: \n",
            " [[3453    4]\n",
            " [  39  414]]\n",
            "\n",
            "Accuracy:  0.9890025575447571\n",
            "metrics on testing data===========================================================================\n",
            "              precision    recall  f1-score   support\n",
            "\n",
            "           0       0.98      0.98      0.98       865\n",
            "           1       0.87      0.88      0.88       113\n",
            "\n",
            "    accuracy                           0.97       978\n",
            "   macro avg       0.93      0.93      0.93       978\n",
            "weighted avg       0.97      0.97      0.97       978\n",
            "\n",
            "\n",
            "Confusion Matrix: \n",
            " [[850  15]\n",
            " [ 13 100]]\n",
            "\n",
            "Accuracy:  0.9713701431492843\n"
          ]
        }
      ]
    },
    {
      "cell_type": "markdown",
      "metadata": {
        "id": "gkmdrHaFwXsu"
      },
      "source": [
        "**It is clear that SVM performs best for this task, so we'll load it into a pickle file and download it for deployment.**"
      ]
    },
    {
      "cell_type": "markdown",
      "metadata": {
        "id": "hzArCSQbxMmu"
      },
      "source": [
        "**Summary and Conclusion**\n",
        "\n",
        "*   We used Bag of Words to form a word token matrix\n",
        "*   We used 7 different Machine Learning Algorithms.\n",
        "\n",
        "*   Implemented GridSearchCV and ShuffleSplit to find best fitting parameters\n",
        "\n",
        "*   We also evaluated model metrics to check performance\n",
        "*   SVM performed the best\n",
        "\n",
        "\n",
        "*   Below is a clean table with scores obtained in Hyperparameter findings\n",
        "\n",
        "\n",
        "\n"
      ]
    },
    {
      "cell_type": "code",
      "metadata": {
        "colab": {
          "base_uri": "https://localhost:8080/"
        },
        "id": "By1fn6ERxJtU",
        "outputId": "79916cd7-e213-4702-c607-8a726bc98300"
      },
      "source": [
        "from prettytable import PrettyTable\n",
        "\n",
        "x = PrettyTable()\n",
        "x.field_names = [\"Model Used\", \"Accuracy\"]\n",
        "\n",
        "x.add_row([\"Logistic Regression\", 0.9729])\n",
        "x.add_row([\"Decision Tree Classifier\", 0.9481])\n",
        "x.add_row([\"Random Forest Classifier\", 0.9621])\n",
        "x.add_row([\"Support Vector Machine\", 0.9757])\n",
        "x.add_row([\"Multinomial Naive Bayes\", 0.9725])\n",
        "x.add_row([\"KnearestNeighbor\", 0.9336])\n",
        "x.add_row([\"Extra Tree Classifier\", 0.9369])\n",
        "\n",
        "print(x)"
      ],
      "execution_count": 36,
      "outputs": [
        {
          "output_type": "stream",
          "name": "stdout",
          "text": [
            "+--------------------------+----------+\n",
            "|        Model Used        | Accuracy |\n",
            "+--------------------------+----------+\n",
            "|   Logistic Regression    |  0.9729  |\n",
            "| Decision Tree Classifier |  0.9481  |\n",
            "| Random Forest Classifier |  0.9621  |\n",
            "|  Support Vector Machine  |  0.9757  |\n",
            "| Multinomial Naive Bayes  |  0.9725  |\n",
            "|     KnearestNeighbor     |  0.9336  |\n",
            "|  Extra Tree Classifier   |  0.9369  |\n",
            "+--------------------------+----------+\n"
          ]
        }
      ]
    },
    {
      "cell_type": "markdown",
      "metadata": {
        "id": "erPa9CNTw0cd"
      },
      "source": [
        "**Step-4: MODEL DEPLOYMENT**"
      ]
    },
    {
      "cell_type": "code",
      "metadata": {
        "id": "x3uJhXrEw6vQ"
      },
      "source": [
        "# We'll save the model using a pickel and load it in our local system.\n",
        "import pickle\n",
        "\n",
        "# Creating a pickle file for the classifier\n",
        "filename = 'spam-detection-svm.pkl'\n",
        "pickle.dump(classifier, open(filename, 'wb'))"
      ],
      "execution_count": 37,
      "outputs": []
    },
    {
      "cell_type": "code",
      "metadata": {
        "id": "Yk0EaEnUw69I"
      },
      "source": [
        ""
      ],
      "execution_count": null,
      "outputs": []
    },
    {
      "cell_type": "markdown",
      "metadata": {
        "id": "pye8PJfl5OBS"
      },
      "source": [
        "**Deployment on Local Machine **"
      ]
    },
    {
      "cell_type": "code",
      "metadata": {
        "id": "zgOJbdqaw7If"
      },
      "source": [
        "#files to be created for deployment of project \n",
        "\n",
        "# create a project directory in local machine and check the below files are created for deployment"
      ],
      "execution_count": null,
      "outputs": []
    },
    {
      "cell_type": "markdown",
      "metadata": {
        "id": "pV1YkMkZ-y-D"
      },
      "source": [
        "\n",
        "\n",
        "1.  static\n",
        "\n",
        "2.  templates\n",
        "3.  app.py\n",
        "4.  spam-detection-svm.pkl\n",
        "\n"
      ]
    },
    {
      "cell_type": "markdown",
      "metadata": {
        "id": "yFwUjbu-_RPV"
      },
      "source": [
        "\n",
        "\n",
        "*   Open Anaconda Prompt\n",
        "*   cd project directory\n",
        ".   project directory> python app.py\n",
        ".  we will get a url: http://127.0.0.1:5000/ \n",
        ".   type something and check the prediction is spam or ham\n",
        "\n"
      ]
    },
    {
      "cell_type": "markdown",
      "metadata": {
        "id": "xCGEvqvU_24y"
      },
      "source": [
        "**Deployment on Heroku**"
      ]
    },
    {
      "cell_type": "markdown",
      "metadata": {
        "id": "4TnkWwP6_8A3"
      },
      "source": [
        "\n",
        "\n",
        "*files to  be created for deployment on Heroku cloud platform(Platform as as service*\n",
        "\n",
        "\n",
        "*   static\n",
        "*   templates\n",
        "\n",
        "\n",
        "*   app.py\n",
        "\n",
        "*   spam-detection-svm.pkl\n",
        "*   Procfile\n",
        "* requirements.txt\n",
        "\n",
        "\n",
        "\n",
        "\n",
        "\n",
        "\n",
        "\n",
        "\n"
      ]
    },
    {
      "cell_type": "code",
      "metadata": {
        "id": "mwDj63f3w7WC"
      },
      "source": [
        "# upload all the files in github with a new repository\n",
        "# open heroku- create a app\n",
        "# connect heroku with the github repo(where files has been uploaded), can use herokuCLI also\n",
        "# deploy\n",
        "# we get a url:https://sms-spam-detector999.herokuapp.com/\n",
        "# enter the text input check the prediction if spam or not."
      ],
      "execution_count": null,
      "outputs": []
    },
    {
      "cell_type": "markdown",
      "metadata": {
        "id": "EbO3j5huBDpF"
      },
      "source": [
        "**Similarly with some minor changes, we can deploy our Model on cloud Platforms like GOOGLE CLOUD PLATFORM,MICROSOFT AZURE, AWS and others**"
      ]
    },
    {
      "cell_type": "markdown",
      "metadata": {
        "id": "3YJjj1zsBEKv"
      },
      "source": [
        "**Thank you for valuable time and consideration**"
      ]
    }
  ]
}